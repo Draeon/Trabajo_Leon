{
 "metadata": {
  "name": ""
 },
 "nbformat": 3,
 "nbformat_minor": 0,
 "worksheets": [
  {
   "cells": [
    {
     "cell_type": "heading",
     "level": 1,
     "metadata": {},
     "source": [
      "Tarea 1: Ejercicios de calentamiento con Python"
     ]
    },
    {
     "cell_type": "heading",
     "level": 2,
     "metadata": {},
     "source": [
      "REALIZADO POR:\n",
      "-Le\u00f3n Mart\u00ednez del R\u00edo"
     ]
    },
    {
     "cell_type": "markdown",
     "metadata": {},
     "source": [
      "**REGLAS:**\n",
      "\n",
      "- Usa Python para llevar a cabo las tareas. [O julia...]\n",
      "\n",
      "- S\u00ed se permite el trabajo colaborativo, y de hecho se fomenta, pero se exige el uso de las neuronas de todos los que colaboren. Se vale entregar una sola tarea por grupo de 2 o (si es necesario) 3 personas.\n",
      "\n",
      "- La tarea se entrega como un *notebook* de IPython, y debe incluir notas, comentario y **TODO** lo est\u00e9ticamente necesario, que lo haga entendible para una tercer persona no involucrada en el curso. \n",
      "\n",
      "- Se recomienda usar una versi\u00f3n nueva de este mismo notebook, reemplazando *[Respuesta aqu\u00ed] por tu discusi\u00f3n, c\u00f3digo, y resultados (en los tipos de celda que convengan, y con el n\u00famero de ellos que haga falta).\n",
      "\n",
      "- Cambia el nombre del notebook para reflejar el nombre que escojan para su grupo de trabajo, e.g. \"Tarea-01-profes\"\n",
      "\n",
      "\n"
     ]
    },
    {
     "cell_type": "markdown",
     "metadata": {},
     "source": [
      "**1.** Implementa (con Python) el llamado \"m\u00e9todo Babil\u00f3nico\" para calcular la ra\u00edz cuadrada de un \n",
      "n\u00famero dado, $y$. Este m\u00e9todo consiste en la iteraci\u00f3n \n",
      "$ x_{n+1} = \\frac{1}{2} ( x_n + \\frac{y}{x_n}). $\n",
      "\n",
      "a. \u00bfCu\u00e1ndo se deber\u00eda terminar la iteracion?\n",
      "\n",
      "b. \u00bfCu\u00e1l es la convergencia del m\u00e9todo?\n",
      "\n",
      "c. Calcula, usando este m\u00e9todo, la ra\u00edz cuadrada de los n\u00fameros $0$ hasta $10$, en pasos de $0.1$.\n",
      "\n",
      "d. \u00bfQu\u00e9 ser\u00eda bueno \"poder hacer\" --y que a\u00fan no hemos aprendido-- con este c\u00f3digo para poderlo correr muchas veces sin tener que incluirlo expl\u00edcitamente?"
     ]
    },
    {
     "cell_type": "markdown",
     "metadata": {},
     "source": [
      "*[Respuestas aqu\u00ed]*"
     ]
    },
    {
     "cell_type": "heading",
     "level": 4,
     "metadata": {},
     "source": [
      "1.a.-"
     ]
    },
    {
     "cell_type": "markdown",
     "metadata": {},
     "source": [
      "        Para empezar defino una funci\u00f3n para la iteraci\u00f3n del \"m\u00e9todo babil\u00f3nico\""
     ]
    },
    {
     "cell_type": "code",
     "collapsed": false,
     "input": [
      "def babi(x,y):\n",
      "    return (x+(y/x))/2."
     ],
     "language": "python",
     "metadata": {},
     "outputs": [],
     "prompt_number": 20
    },
    {
     "cell_type": "code",
     "collapsed": false,
     "input": [
      "x=3;y=3;"
     ],
     "language": "python",
     "metadata": {},
     "outputs": [],
     "prompt_number": 142
    },
    {
     "cell_type": "code",
     "collapsed": false,
     "input": [
      "import numpy #importo numpy para comparar con la libreria de ra\u00edz cuadrada"
     ],
     "language": "python",
     "metadata": {},
     "outputs": [],
     "prompt_number": 52
    },
    {
     "cell_type": "code",
     "collapsed": false,
     "input": [
      "x=babi(x,y)  # repetimos este renglon para ver c\u00f3mo funciona con Shift-Enter\n",
      "print \"El valor iterada de x es:   \",repr(x)\n",
      "print \"El valor de numpy para x es:\",repr(numpy.sqrt(y))\n",
      "print \"La diferencia entre las dos:\",repr(x-numpy.sqrt(y))"
     ],
     "language": "python",
     "metadata": {},
     "outputs": [
      {
       "output_type": "stream",
       "stream": "stdout",
       "text": [
        "El valor iterada de x es:    1.7320508100147274\n",
        "El valor de numpy para x es: 1.7320508075688772\n",
        "La diferencia entre las dos: 2.4458501890478601e-09\n"
       ]
      }
     ],
     "prompt_number": 146
    },
    {
     "cell_type": "markdown",
     "metadata": {},
     "source": [
      "        Probandolo un rato con valores iniciales vemos que funciona, sin sobresaltos.\n",
      "        \"Salvo que hay un problema sobre el punto flotante y la neurosis *del programador*,\n",
      "        dado que para la pareja x=3 y y=2 siempre queda un error.\n",
      "        Adem\u00e1s que si se comiensa con un valor inicial negativo siempre nos da la raiz con el valor negativo\"\n",
      "\n",
      "        Haciendo peque\u00f1os experimentos , vemos que las iteraciones tienden a encontrar el \"valor\" al cual podemos aproximar a la ra\u00edz,\n",
      "        mejor dicho \"se estanca, termina estando quieto en un valor para las siguientes iteraciones\"."
     ]
    },
    {
     "cell_type": "markdown",
     "metadata": {},
     "source": [
      "ENTONCES:\n",
      "Podemos terminar la iteraci\u00f3n cuando   $x_{n+1}-x_n=0$ \n",
      "\n",
      "PERO: Python solo nos devuelve 17 cifras signicativas, entonces suena conveniente pedir que de hasta 17 cifras significativas que no varien"
     ]
    },
    {
     "cell_type": "code",
     "collapsed": false,
     "input": [
      "a=1.3"
     ],
     "language": "python",
     "metadata": {},
     "outputs": [],
     "prompt_number": 91
    },
    {
     "cell_type": "code",
     "collapsed": false,
     "input": [
      "b=int(a)"
     ],
     "language": "python",
     "metadata": {},
     "outputs": [],
     "prompt_number": 92
    },
    {
     "cell_type": "code",
     "collapsed": false,
     "input": [
      "len(str(a))"
     ],
     "language": "python",
     "metadata": {},
     "outputs": [
      {
       "metadata": {},
       "output_type": "pyout",
       "prompt_number": 97,
       "text": [
        "3"
       ]
      }
     ],
     "prompt_number": 97
    },
    {
     "cell_type": "heading",
     "level": 4,
     "metadata": {},
     "source": [
      "1.b"
     ]
    },
    {
     "cell_type": "markdown",
     "metadata": {},
     "source": [
      "        Entendiendo Convergencia c\u00f3mo el numero de iteraciones necesarias dependiendo de la presici\u00f3n le podriamos llamar que el metodo babilonico tiene una convergencia Lineal."
     ]
    },
    {
     "cell_type": "markdown",
     "metadata": {},
     "source": [
      "Usando la justificaci\u00f3n\n",
      "$$ \\lim_{ n \\to \\infty} \\frac{X_{n+1}-L}{X_n-L}=\\mu$$    si $\\mu \\in (0,1)$ Entonces converge linealmente"
     ]
    },
    {
     "cell_type": "heading",
     "level": 4,
     "metadata": {},
     "source": [
      "1.c"
     ]
    },
    {
     "cell_type": "markdown",
     "metadata": {},
     "source": [
      "Conviene ahora hacer que la funci\u00f3n aproxime hasta que $x_{n+1}-x_n=0$"
     ]
    },
    {
     "cell_type": "code",
     "collapsed": false,
     "input": [
      "def sqrtbabi(y):\n",
      "    if y<0:\n",
      "        print \"Da un numero positivo animal\"\n",
      "    if y==0:\n",
      "        y1=0\n",
      "    else:    \n",
      "        y0=y;\n",
      "        y1=(y0+y/y0)/2 #inicialiso el punto de partida\n",
      "        while abs(y1-y0)>0:   #compara si ya no avanza el c\u00f3digo\n",
      "            y0=y1 #avanzo el indice\n",
      "            y1=(y0+y/y0)/2 #avanza el paso\n",
      "    return y1"
     ],
     "language": "python",
     "metadata": {},
     "outputs": [],
     "prompt_number": 25
    },
    {
     "cell_type": "code",
     "collapsed": false,
     "input": [
      "y=0.  # Ejemplo y esperimento pero falla si no  lo pone uno como un entero\n",
      "sqrtbabi(y)"
     ],
     "language": "python",
     "metadata": {},
     "outputs": [
      {
       "metadata": {},
       "output_type": "pyout",
       "prompt_number": 26,
       "text": [
        "0"
       ]
      }
     ],
     "prompt_number": 26
    },
    {
     "cell_type": "code",
     "collapsed": false,
     "input": [
      "lista=[]\n",
      "i=0\n",
      "meta=101\n",
      "while i < meta:\n",
      "    lista.append(0.1*i) # En vez de sumar 0.1 en 0.1 mejor lo multiplico por un entero para evitar la suma de errores de representaci\u00f3n\n",
      "    i += 1"
     ],
     "language": "python",
     "metadata": {},
     "outputs": [],
     "prompt_number": 36
    },
    {
     "cell_type": "code",
     "collapsed": false,
     "input": [
      "lista2=[] # la lista de resultados                TA TANNN!!!!!!!!!!!!!!!!!!\n",
      "for i in lista:\n",
      "    lista2.append(sqrtbabi(i))"
     ],
     "language": "python",
     "metadata": {},
     "outputs": [],
     "prompt_number": 43
    },
    {
     "cell_type": "heading",
     "level": 4,
     "metadata": {},
     "source": [
      "1.d"
     ]
    },
    {
     "cell_type": "markdown",
     "metadata": {},
     "source": [
      "    Pues hacer que el codigo sea capas de interpretar listas y tomar cada una de las entradas."
     ]
    },
    {
     "cell_type": "markdown",
     "metadata": {},
     "source": [
      "**2.** Considera la f\u00f3rmula de recursi\u00f3n $ x_{n+1} =  x_n^2 $. \n",
      "\n",
      "a. \u00bfCu\u00e1l es el valor del iterado $x_{75}$ cuando el valor inicial es $x_0=1-10^{-20}$, calculado num\u00e9ricamente? \n",
      "\n",
      "b. Compara el resultado num\u00e9rico obtenido con el que uno esperar\u00eda al elevar al cuadrado un n\u00famero ligeramente menor que 1 un \n",
      "mont\u00f3n de veces... \u00bfCu\u00e1l resultado es el correcto? \n",
      "\n",
      "c. >Qu\u00e9 necesitar\u00edas para verificar esto num\u00e9ricamente?\n",
      "\n",
      "d. Suele ser una buena idea hacer el c\u00f3digo m\u00e1s general posible, para no repetir esfuerzos despu\u00e9s. \u00bfC\u00f3mo podr\u00edas escribir c\u00f3digo para la iteraci\u00f3n general $x_{n+1} = f(x_n)$, donde $f$ es una funci\u00f3n dada (una funci\u00f3n implementada con `def` en Python)?\n",
      "\n"
     ]
    },
    {
     "cell_type": "markdown",
     "metadata": {},
     "source": [
      "*[Respuestas aqu\u00ed]*"
     ]
    },
    {
     "cell_type": "markdown",
     "metadata": {},
     "source": [
      "Sea $$f(x)=x^2$$"
     ]
    },
    {
     "cell_type": "heading",
     "level": 4,
     "metadata": {},
     "source": [
      "2.a"
     ]
    },
    {
     "cell_type": "code",
     "collapsed": false,
     "input": [
      "i=1\n",
      "meta=76\n",
      "Xn=1.-1e-20\n",
      "while i<meta:\n",
      "    Xn=Xn**2\n",
      "    i += 1\n",
      "print \"La representacion de x_75 =\",repr(Xn)"
     ],
     "language": "python",
     "metadata": {},
     "outputs": []
    },
    {
     "cell_type": "heading",
     "level": 4,
     "metadata": {},
     "source": [
      "2.b"
     ]
    },
    {
     "cell_type": "code",
     "collapsed": false,
     "input": [
      "i=1\n",
      "meta=76\n",
      "Xn=0.999999\n",
      "while i<meta:\n",
      "    Xn=Xn**2\n",
      "    i += 1\n",
      "print \"La iteracion a un numero ligeramente m\u00e1s chico que uno\",repr(Xn)"
     ],
     "language": "python",
     "metadata": {},
     "outputs": [
      {
       "output_type": "stream",
       "stream": "stdout",
       "text": [
        "La iteracion a un numero ligeramente m\u00e1s chico que uno 0.0\n"
       ]
      }
     ],
     "prompt_number": 64
    },
    {
     "cell_type": "heading",
     "level": 4,
     "metadata": {},
     "source": [
      "2.c"
     ]
    },
    {
     "cell_type": "markdown",
     "metadata": {},
     "source": [
      "Se necesitar\u00eda poder tener una precisi\u00f3n de m\u00e1s de 40 digitos como m\u00ednimo lo cual ser\u00eda cuadrupe presici\u00f3n"
     ]
    },
    {
     "cell_type": "heading",
     "level": 4,
     "metadata": {},
     "source": [
      "2.d"
     ]
    },
    {
     "cell_type": "code",
     "collapsed": false,
     "input": [
      "def f(x):\n",
      "    return x**2"
     ],
     "language": "python",
     "metadata": {},
     "outputs": []
    },
    {
     "cell_type": "markdown",
     "metadata": {},
     "source": [
      "**3.** *\"Hace muchos muchos a\u00f1os, en un reino muy lejano...\"*, se le ocurri\u00f3 a Arqu\u00edmedes un m\u00e9todo para determinar el valor num\u00e9rico de $\\pi$. El m\u00e9todo consiste en considerar dos pol\u00edgonos regulares de $n$ lados, uno inscrito y otro circunscrito al c\u00edrculo, y ver c\u00f3mo el \u00e1rea de estos acota por abajo y arriba el \u00e1rea del c\u00edrculo. \n",
      "\n",
      "a. Da las cotas (inferior y superior) al \u00e1rea del c\u00edrculo de radio 1, *al menos* cuando $n=4$, $5$ y $6$ (o sea, las cotas que se obtienen usando los siguientes pol\u00edgonos regulares:  el cuadrado, el pent\u00e1gono y el hex\u00e1gono). \n",
      "\n",
      "[Arqu\u00edmedes seguramente hizo esto de manera emp\u00edrica, construyendo los pol\u00edgonos; para este ejercicio se \n",
      "vale utilizar lo que sabes de geometr\u00eda y trigonometr\u00eda.]\n",
      "\n",
      "b. \u00bfSe te ocurre c\u00f3mo obtener las cotas para $\\pi$ usando un pol\u00edgono regular de $n$ lados?\n",
      "\n",
      "(\u00c9ste es el **Ejercicio 1.1** del Moore-Kearfortt (2009); la soluci\u00f3n que ellos para $n=4$ me parece que est\u00e1 mal en la cota inferior.)"
     ]
    },
    {
     "cell_type": "markdown",
     "metadata": {},
     "source": [
      "*[Respuestas aqu\u00ed]*"
     ]
    },
    {
     "cell_type": "markdown",
     "metadata": {},
     "source": [
      " Si el pol\u00edgono tiene $N$-lados regulares podemos ver al area como $N$ veces el area de los triangulos que lo forman. \n",
      "Donde a veces el radio sera la apotema en caso que circoinscriba o ser\u00e1 la hipotenusa del triangulo que divide a la mitad a los triangulos que conforman al poligono inscrito.\n",
      "\n",
      "Entonces podemos ver $A=N \\cdot 2 \\frac{a\\cdot b}{2}$\n",
      "\n",
      "Donde si circunscribe $a=radio$ y $b=radio \\cdot tan(2\\pi/2N)$\n",
      "\n",
      "Y si solo inscribe $a=radio \\cdot sin(2\\pi/2N)$ y $b=radio \\cdot cos(2\\pi/2N)$"
     ]
    },
    {
     "cell_type": "heading",
     "level": 4,
     "metadata": {},
     "source": [
      "3.a"
     ]
    },
    {
     "cell_type": "code",
     "collapsed": false,
     "input": [
      "import numpy\n",
      "def areamax(n):\n",
      "    return n*numpy.tan(numpy.pi/n)\n",
      "def areamin(n):\n",
      "    return n*numpy.cos(numpy.pi/n)*numpy.sin(numpy.pi/n)\n",
      "\n",
      "    "
     ],
     "language": "python",
     "metadata": {},
     "outputs": [],
     "prompt_number": 87
    },
    {
     "cell_type": "code",
     "collapsed": false,
     "input": [
      "ejem=[4,5,6]\n",
      "for i in ejem:\n",
      "    print \"Para \",i,\" La cota superior es:\",areamax(i),\" y la cota inferior es:\",areamin(i)"
     ],
     "language": "python",
     "metadata": {},
     "outputs": [
      {
       "output_type": "stream",
       "stream": "stdout",
       "text": [
        "Para  4  La cota superior es: 4.0  y la cota inferior es: 2.0\n",
        "Para  5  La cota superior es: 3.63271264003  y la cota inferior es: 2.37764129074\n",
        "Para  6  La cota superior es: 3.46410161514  y la cota inferior es: 2.59807621135\n"
       ]
      }
     ],
     "prompt_number": 97
    },
    {
     "cell_type": "heading",
     "level": 4,
     "metadata": {},
     "source": [
      "3.b"
     ]
    },
    {
     "cell_type": "markdown",
     "metadata": {},
     "source": [
      "Supongo que es sin usar funciones trigonom\u00e9tricas por que si usamos el codigo anterior cuando $N \\rightarrow$mucho converge a pi"
     ]
    },
    {
     "cell_type": "code",
     "collapsed": false,
     "input": [
      "i=10000\n",
      "print \"Para Pi con\",i,\"poligono, la cota superior es:\",areamax(i),\" y la cota inferior es:\",areamin(i)"
     ],
     "language": "python",
     "metadata": {},
     "outputs": [
      {
       "output_type": "stream",
       "stream": "stdout",
       "text": [
        "Para Pi con 10000 poligono, la cota superior es: 3.14159275694  y la cota inferior es: 3.14159244688\n"
       ]
      }
     ],
     "prompt_number": 100
    },
    {
     "cell_type": "markdown",
     "metadata": {},
     "source": [
      "Pensemos en el lado de un pol\u00edgono incrito, si duplicamos el lado del pol\u00edgono este se acercara m\u00e1s a $\\pi$\n",
      "\n",
      "Y usando pitagoras $L_{n+1}^2 =\\left(\\frac{L_{n}}{2}\\right)^2 + (1-h_{n})^2$ donde $h_{n}$ es la apotema del poligono anterior. Con $h_n^2=1-\\left(\\frac{L_n}{2}\\right)^2$\n",
      "\n",
      "Por lo tanto queda en forma recursiva al pol\u00edgono anterior.\n",
      " $$L_{n+1}=\\sqrt{ \\left(\\frac{L_{n}}{2}\\right)^2 + \\left( 1-\\sqrt{1-\\left(\\frac{L_n}{2}\\right)^2}\\right)^2 }=\\sqrt{2-\\sqrt{4-L_n^2}}$$\n",
      " \n",
      " Por eso es bueno comenzar con un poligono que sepamos su lado instrito originalmente\n",
      "  Tomemos al del cuadrado, con lo que obtendr\u00edamos un $L_1=\\sqrt(2)$\n",
      "  \n",
      "  Con esto solo hemos obtenido los lados pero faltar\u00edan multiplicarlo por el numero de lados que ser\u00eda $N=4\\cdot 2^{n-1}$"
     ]
    },
    {
     "cell_type": "code",
     "collapsed": false,
     "input": [
      "def lado(n):\n",
      "    l=numpy.sqrt(2.)\n",
      "    i=0\n",
      "    while i<n:\n",
      "        l=numpy.sqrt(2.-numpy.sqrt(4.-l**2))\n",
      "        i +=1\n",
      "    return l\n",
      "       "
     ],
     "language": "python",
     "metadata": {},
     "outputs": [],
     "prompt_number": 113
    },
    {
     "cell_type": "code",
     "collapsed": false,
     "input": [
      "def pinino(n):\n",
      "    return 2**(n+1)*lado(n)"
     ],
     "language": "python",
     "metadata": {},
     "outputs": [],
     "prompt_number": 119
    },
    {
     "cell_type": "heading",
     "level": 1,
     "metadata": {},
     "source": [
      "TA TAN !!!!!!!"
     ]
    },
    {
     "cell_type": "markdown",
     "metadata": {},
     "source": [
      "Toda la tarea ser\u00eda mejor si lo hicieramos con precisi\u00f3n arbitraria"
     ]
    }
   ],
   "metadata": {}
  }
 ]
}