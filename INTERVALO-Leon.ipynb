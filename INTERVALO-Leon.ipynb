{
 "metadata": {
  "name": ""
 },
 "nbformat": 3,
 "nbformat_minor": 0,
 "worksheets": [
  {
   "cells": [
    {
     "cell_type": "heading",
     "level": 1,
     "metadata": {},
     "source": [
      "Creaci\u00f3n de intervalo como Objeto"
     ]
    },
    {
     "cell_type": "code",
     "collapsed": false,
     "input": [
      "import numpy as np"
     ],
     "language": "python",
     "metadata": {},
     "outputs": [],
     "prompt_number": 2
    },
    {
     "cell_type": "code",
     "collapsed": false,
     "input": [
      "import sympy"
     ],
     "language": "python",
     "metadata": {},
     "outputs": [],
     "prompt_number": 1
    },
    {
     "cell_type": "markdown",
     "metadata": {},
     "source": [
      "Crearemos un nuevo objeto llamado intervalo el cual se conporte como un `intervalo`"
     ]
    },
    {
     "cell_type": "code",
     "collapsed": false,
     "input": [
      "class Intervalo(object):\n",
      "    pass"
     ],
     "language": "python",
     "metadata": {},
     "outputs": [],
     "prompt_number": 2
    },
    {
     "cell_type": "code",
     "collapsed": false,
     "input": [
      "x=[5,2]\n",
      "y=[3,0]\n",
      "x[len(x)-1]"
     ],
     "language": "python",
     "metadata": {},
     "outputs": [
      {
       "metadata": {},
       "output_type": "pyout",
       "prompt_number": 6,
       "text": [
        "2"
       ]
      }
     ],
     "prompt_number": 6
    },
    {
     "cell_type": "code",
     "collapsed": false,
     "input": [
      "l"
     ],
     "language": "python",
     "metadata": {},
     "outputs": [
      {
       "metadata": {},
       "output_type": "pyout",
       "prompt_number": 16,
       "text": [
        "[[5, 2], [3, 0]]"
       ]
      }
     ],
     "prompt_number": 16
    },
    {
     "cell_type": "code",
     "collapsed": false,
     "input": [
      "class Intervalo(object):\n",
      "    min=1\n",
      "    max=2"
     ],
     "language": "python",
     "metadata": {},
     "outputs": [],
     "prompt_number": 7
    },
    {
     "cell_type": "code",
     "collapsed": false,
     "input": [
      "i=Intervalo()\n",
      "b=Intervalo()"
     ],
     "language": "python",
     "metadata": {},
     "outputs": [],
     "prompt_number": 9
    },
    {
     "cell_type": "code",
     "collapsed": false,
     "input": [
      "i.max"
     ],
     "language": "python",
     "metadata": {},
     "outputs": [
      {
       "metadata": {},
       "output_type": "pyout",
       "prompt_number": 12,
       "text": [
        "2"
       ]
      }
     ],
     "prompt_number": 12
    },
    {
     "cell_type": "code",
     "collapsed": false,
     "input": [
      "b.max=19"
     ],
     "language": "python",
     "metadata": {},
     "outputs": [],
     "prompt_number": 13
    },
    {
     "cell_type": "code",
     "collapsed": false,
     "input": [
      "b.max"
     ],
     "language": "python",
     "metadata": {},
     "outputs": [
      {
       "metadata": {},
       "output_type": "pyout",
       "prompt_number": 14,
       "text": [
        "19"
       ]
      }
     ],
     "prompt_number": 14
    },
    {
     "cell_type": "code",
     "collapsed": false,
     "input": [
      "i.max"
     ],
     "language": "python",
     "metadata": {},
     "outputs": [
      {
       "metadata": {},
       "output_type": "pyout",
       "prompt_number": 15,
       "text": [
        "2"
       ]
      }
     ],
     "prompt_number": 15
    },
    {
     "cell_type": "heading",
     "level": 2,
     "metadata": {},
     "source": [
      "constructores"
     ]
    },
    {
     "cell_type": "code",
     "collapsed": false,
     "input": [
      "class Intervalo(object):\n",
      "    def __init__(self,v): #me lee una cadena\n",
      "        self.Min=min(v)\n",
      "        self.Max=max(v)\n",
      "    def __repr__(self):\n",
      "        return \"Intervalo({},{})\".format(self.Min,self.Max)\n",
      "    def __str__(self):\n",
      "        return \"[{},{}]\".format(self.Min,self.Max)\n",
      "    def __add__ (self, otro):\n",
      "        if not isinstance(otro,Intervalo):\n",
      "            otro = Intervalo(otro)\n",
      "        return Intervalo([self.Min + otro.Min, self.Max + otro.Max])\n"
     ],
     "language": "python",
     "metadata": {},
     "outputs": [],
     "prompt_number": 11
    },
    {
     "cell_type": "markdown",
     "metadata": {},
     "source": [
      "`self` se refiere a que es propio"
     ]
    },
    {
     "cell_type": "code",
     "collapsed": false,
     "input": [
      "i=Intervalo([1,3])\n",
      "j=Intervalo([0,1])"
     ],
     "language": "python",
     "metadata": {},
     "outputs": [],
     "prompt_number": 12
    },
    {
     "cell_type": "code",
     "collapsed": false,
     "input": [
      "not isinstance(i,Intervalo)"
     ],
     "language": "python",
     "metadata": {},
     "outputs": [
      {
       "metadata": {},
       "output_type": "pyout",
       "prompt_number": 10,
       "text": [
        "False"
       ]
      }
     ],
     "prompt_number": 10
    },
    {
     "cell_type": "code",
     "collapsed": false,
     "input": [
      "i+1"
     ],
     "language": "python",
     "metadata": {},
     "outputs": [
      {
       "ename": "TypeError",
       "evalue": "'int' object is not iterable",
       "output_type": "pyerr",
       "traceback": [
        "\u001b[1;31m---------------------------------------------------------------------------\u001b[0m\n\u001b[1;31mTypeError\u001b[0m                                 Traceback (most recent call last)",
        "\u001b[1;32m<ipython-input-13-8b71595f8141>\u001b[0m in \u001b[0;36m<module>\u001b[1;34m()\u001b[0m\n\u001b[1;32m----> 1\u001b[1;33m \u001b[0mi\u001b[0m\u001b[1;33m+\u001b[0m\u001b[1;36m1\u001b[0m\u001b[1;33m\u001b[0m\u001b[0m\n\u001b[0m",
        "\u001b[1;32m<ipython-input-11-811ebd88f6bd>\u001b[0m in \u001b[0;36m__add__\u001b[1;34m(self, otro)\u001b[0m\n\u001b[0;32m      9\u001b[0m     \u001b[1;32mdef\u001b[0m \u001b[0m__add__\u001b[0m \u001b[1;33m(\u001b[0m\u001b[0mself\u001b[0m\u001b[1;33m,\u001b[0m \u001b[0motro\u001b[0m\u001b[1;33m)\u001b[0m\u001b[1;33m:\u001b[0m\u001b[1;33m\u001b[0m\u001b[0m\n\u001b[0;32m     10\u001b[0m         \u001b[1;32mif\u001b[0m \u001b[1;32mnot\u001b[0m \u001b[0misinstance\u001b[0m\u001b[1;33m(\u001b[0m\u001b[0motro\u001b[0m\u001b[1;33m,\u001b[0m\u001b[0mIntervalo\u001b[0m\u001b[1;33m)\u001b[0m\u001b[1;33m:\u001b[0m\u001b[1;33m\u001b[0m\u001b[0m\n\u001b[1;32m---> 11\u001b[1;33m             \u001b[0motro\u001b[0m \u001b[1;33m=\u001b[0m \u001b[0mIntervalo\u001b[0m\u001b[1;33m(\u001b[0m\u001b[0motro\u001b[0m\u001b[1;33m)\u001b[0m\u001b[1;33m\u001b[0m\u001b[0m\n\u001b[0m\u001b[0;32m     12\u001b[0m         \u001b[1;32mreturn\u001b[0m \u001b[0mIntervalo\u001b[0m\u001b[1;33m(\u001b[0m\u001b[1;33m[\u001b[0m\u001b[0mself\u001b[0m\u001b[1;33m.\u001b[0m\u001b[0mMin\u001b[0m \u001b[1;33m+\u001b[0m \u001b[0motro\u001b[0m\u001b[1;33m.\u001b[0m\u001b[0mMin\u001b[0m\u001b[1;33m,\u001b[0m \u001b[0mself\u001b[0m\u001b[1;33m.\u001b[0m\u001b[0mMax\u001b[0m \u001b[1;33m+\u001b[0m \u001b[0motro\u001b[0m\u001b[1;33m.\u001b[0m\u001b[0mMax\u001b[0m\u001b[1;33m]\u001b[0m\u001b[1;33m)\u001b[0m\u001b[1;33m\u001b[0m\u001b[0m\n",
        "\u001b[1;32m<ipython-input-11-811ebd88f6bd>\u001b[0m in \u001b[0;36m__init__\u001b[1;34m(self, v)\u001b[0m\n\u001b[0;32m      1\u001b[0m \u001b[1;32mclass\u001b[0m \u001b[0mIntervalo\u001b[0m\u001b[1;33m(\u001b[0m\u001b[0mobject\u001b[0m\u001b[1;33m)\u001b[0m\u001b[1;33m:\u001b[0m\u001b[1;33m\u001b[0m\u001b[0m\n\u001b[0;32m      2\u001b[0m     \u001b[1;32mdef\u001b[0m \u001b[0m__init__\u001b[0m\u001b[1;33m(\u001b[0m\u001b[0mself\u001b[0m\u001b[1;33m,\u001b[0m\u001b[0mv\u001b[0m\u001b[1;33m)\u001b[0m\u001b[1;33m:\u001b[0m \u001b[1;31m#me lee una cadena\u001b[0m\u001b[1;33m\u001b[0m\u001b[0m\n\u001b[1;32m----> 3\u001b[1;33m         \u001b[0mself\u001b[0m\u001b[1;33m.\u001b[0m\u001b[0mMin\u001b[0m\u001b[1;33m=\u001b[0m\u001b[0mmin\u001b[0m\u001b[1;33m(\u001b[0m\u001b[0mv\u001b[0m\u001b[1;33m)\u001b[0m\u001b[1;33m\u001b[0m\u001b[0m\n\u001b[0m\u001b[0;32m      4\u001b[0m         \u001b[0mself\u001b[0m\u001b[1;33m.\u001b[0m\u001b[0mMax\u001b[0m\u001b[1;33m=\u001b[0m\u001b[0mmax\u001b[0m\u001b[1;33m(\u001b[0m\u001b[0mv\u001b[0m\u001b[1;33m)\u001b[0m\u001b[1;33m\u001b[0m\u001b[0m\n\u001b[0;32m      5\u001b[0m     \u001b[1;32mdef\u001b[0m \u001b[0m__repr__\u001b[0m\u001b[1;33m(\u001b[0m\u001b[0mself\u001b[0m\u001b[1;33m)\u001b[0m\u001b[1;33m:\u001b[0m\u001b[1;33m\u001b[0m\u001b[0m\n",
        "\u001b[1;31mTypeError\u001b[0m: 'int' object is not iterable"
       ]
      }
     ],
     "prompt_number": 13
    },
    {
     "cell_type": "markdown",
     "metadata": {},
     "source": [
      "Se cambia la noci\u00f3n de la divici\u00f3n de imponer el buen orden a buscar cuando la multiplicaci\u00f3n de intervalos nos da el intervalo original\n",
      "$$ \\qquad \\qquad \\qquad [a] / [b] =\\{ c:\\, b\\cdot c = a,\\quad a \\in [a]\\quad , b\\in [b] \\}$$"
     ]
    },
    {
     "cell_type": "markdown",
     "metadata": {},
     "source": [
      "- La Primera forma de exterder el concepto de intervalos es hacer la proyeccion estelogr\u00e1fica (\"good\") $\\mathbb{R} \\to S$"
     ]
    },
    {
     "cell_type": "code",
     "collapsed": false,
     "input": [
      "import numpy as np    # la grafica de la proyecci\u00f3n debe estar aqui\n",
      "import matplotlib as plt\n",
      "x"
     ],
     "language": "python",
     "metadata": {},
     "outputs": [],
     "prompt_number": 14
    },
    {
     "cell_type": "markdown",
     "metadata": {},
     "source": [
      "Con esto tendr\u00edamos que\n",
      "$$ \\qquad \\qquad -\\infty = \\infty$$\n",
      "$$ \\qquad \\qquad x \\cdot \\infty = \\infty \\quad si \\quad x\\neq 0 \\qquad \\qquad \\qquad \\quad x \\pm \\infty = \\infty \\quad si \\quad x\\neq \\infty$$\n",
      "$$ \\qquad \\qquad \\frac{x}{ 0} = \\infty \\qquad \\qquad \\qquad \\qquad\\qquad \\qquad \\frac{x}{\\infty}=0 \\quad si \\quad x\\neq 0$$"
     ]
    },
    {
     "cell_type": "markdown",
     "metadata": {},
     "source": [
      "- Extencion afiu (\"bad\"): $\\overline{\\mathbb{R}}$\n",
      "\n",
      "Donde incluimos a $\\pm \\infty$ al conjunto de los reales\n",
      "\n",
      "De esta manera tendr\u00edamos las mismas operaciones pero tendr\u00edamos que dividir por casos cada una, lo cual nos llevar\u00eda a que no sea uniboca las operaciones"
     ]
    },
    {
     "cell_type": "markdown",
     "metadata": {},
     "source": [
      "- La Extenci\u00f3n con el cero con signo (\"la FEA\")\n",
      "$$ \\qquad \\qquad \\frac{1}{+\\infty}=\\,+0\\qquad ,\\qquad \\frac{1}{-\\infty}=\\,-0$$\n",
      "$$ \\qquad \\qquad \\frac{x}{\\pm0}=\\text{signo}(0) \\cdot (\\pm \\infty)\\qquad ,\\qquad x\\neq\\pm 0$$"
     ]
    },
    {
     "cell_type": "heading",
     "level": 1,
     "metadata": {},
     "source": [
      "Pero \u00bfC\u00f3mo nos queda la divici\u00f3n?"
     ]
    },
    {
     "cell_type": "markdown",
     "metadata": {},
     "source": [
      "$$\\frac{[a]}{[b]} = \\begin{array}{rl}  \\\\\n",
      "[a]\\cdot \\left[ \\frac{1}{\\overline{b}} ,\\frac{1}{\\underline{b}} \\right] & \\qquad si \\quad 0 \\notin [b]\\\\\n",
      "[-\\infty , +\\infty ] & \\qquad si \\quad 0 \\in [a]\\quad y\\quad 0 \\in [b]\\\\ \n",
      "\\left[ \\frac{\\overline{a}}{\\underline{b}} , \\infty \\right]& \\qquad\\\\\n",
      "\\left[ \\frac{\\overline{a}}{\\underline{b}} , \\frac{\\overline{a}}{\\overline{b}} \\right]& \\\\\n",
      "\\left[ -\\infty , \\frac{\\overline{a}}{\\overline{b}} \\right]& \\\\\n",
      "\\left[ -\\infty , \\frac{\\underline{a}}{\\underline{b}} \\right]& \\\\\n",
      "\\left[ \\frac{\\underline{a}}{\\overline{b}} , \\frac{\\underline{a}}{\\underline{b}} \\right]& \\\\\n",
      "\\left[ \\frac{\\underline{a}}{\\overline{b}} , +\\infty \\right]& \\\\\n",
      "NaN \\end{array}$$"
     ]
    },
    {
     "cell_type": "code",
     "collapsed": false,
     "input": [
      "\n"
     ],
     "language": "python",
     "metadata": {},
     "outputs": [],
     "prompt_number": 14
    },
    {
     "cell_type": "markdown",
     "metadata": {},
     "source": [
      "puedo definir inf=float(\"inf\")"
     ]
    }
   ],
   "metadata": {}
  }
 ]
}