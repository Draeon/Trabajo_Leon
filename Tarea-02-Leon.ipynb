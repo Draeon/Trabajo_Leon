{
 "metadata": {
  "name": ""
 },
 "nbformat": 3,
 "nbformat_minor": 0,
 "worksheets": [
  {
   "cells": [
    {
     "cell_type": "heading",
     "level": 1,
     "metadata": {},
     "source": [
      "Tarea 2: Usando librer\u00edas de python"
     ]
    },
    {
     "cell_type": "code",
     "collapsed": false,
     "input": [
      "%install_ext http://raw.github.com/jrjohansson/version_information/master/version_information.py"
     ],
     "language": "python",
     "metadata": {},
     "outputs": [
      {
       "output_type": "stream",
       "stream": "stdout",
       "text": [
        "Installed version_information.py. To use it, type:\n",
        "  %load_ext version_information\n"
       ]
      }
     ],
     "prompt_number": 151
    },
    {
     "cell_type": "code",
     "collapsed": false,
     "input": [
      "%load version_information\n",
      "%version_information numpy, scipy, matplotlib, sympy"
     ],
     "language": "python",
     "metadata": {},
     "outputs": [],
     "prompt_number": 150
    },
    {
     "cell_type": "markdown",
     "metadata": {},
     "source": [
      "**REGLAS:** (casi id\u00e9nticas a la semana anterior)\n",
      "\n",
      "- Usa Python para llevar a cabo las tareas\n",
      "\n",
      "- S\u00ed se permite el trabajo colaborativo, y de hecho se fomenta, pero se exige el uso de las neuronas de todos los que colaboren. Se vale entregar una sola tarea por grupo de 2 o (si es necesario) 3 personas.\n",
      "\n",
      "- La tarea se entrega como un *notebook* de IPython, y debe incluir notas, comentario y **TODO** lo est\u00e9ticamente necesario, que lo haga entendible para una tercer persona no involucrada en el curso. \n",
      "\n",
      "- Se recomienda usar una versi\u00f3n nueva de este mismo notebook, reemplazando \"[Respuestas aqu\u00ed]\" por tu discusi\u00f3n, c\u00f3digo, y resultados (en los tipos de celda que convengan, y con el n\u00famero de ellos que haga falta).\n",
      "\n",
      "- Cambia el nombre del notebook para reflejar el nombre que escojan para su grupo de trabajo, e.g. \"Tarea-01-profes\"\n",
      "\n",
      "- S\u00fabela a tu cuenta de github y haznos saber la direcci\u00f3n."
     ]
    },
    {
     "cell_type": "markdown",
     "metadata": {},
     "source": [
      "**1.** \n",
      "\n",
      "a. Eval\u00faa la funci\u00f3n racional\n",
      "$$\n",
      "R(x,y)= \\textstyle \\frac{33375}{100} y^6 + x^2 (11 x^2 y^2 - y^6 - 121 y^4 - 2) + \\frac{55}{10}y^8 + \\frac{x}{2 y}\n",
      "$$\n",
      "en los valores (enteros) $x=77617$ y $y=33096$. \n",
      "\n",
      "b. Verifica tu respuesta usando precisi\u00f3n extendida (librer\u00eda `mpmath` de `sympy`), digamos, con 30, 60, y 80 d\u00edgitos.\n",
      "\n",
      "c. Dado que se trata de una funci\u00f3n racional, uno esperar\u00eda que $R(77617,33096)$ sea un valor racional. \u00bfQu\u00e9 valor num\u00e9rico obtienes si utilizas la librer\u00eda `Rational` de `sympy`?\n"
     ]
    },
    {
     "cell_type": "heading",
     "level": 2,
     "metadata": {},
     "source": [
      "*[Respuestas aqu\u00ed]*"
     ]
    },
    {
     "cell_type": "code",
     "collapsed": false,
     "input": [
      "from sympy.mpmath import *"
     ],
     "language": "python",
     "metadata": {},
     "outputs": [],
     "prompt_number": 10
    },
    {
     "cell_type": "markdown",
     "metadata": {},
     "source": [
      "Primero defino la funci\u00f3n $R(x,y)$ para despues hacer las comparaciones"
     ]
    },
    {
     "cell_type": "code",
     "collapsed": false,
     "input": [
      "def R(x,y):\n",
      "    return (33375/100)*(y**6) + (x**2)* (11*(x**2)*(y**2) - (y**6) - 121*(y**4) - 2) + (55/10)*(y**8) + x/(2*y)"
     ],
     "language": "python",
     "metadata": {},
     "outputs": [],
     "prompt_number": 11
    },
    {
     "cell_type": "heading",
     "level": 3,
     "metadata": {},
     "source": [
      "1.a"
     ]
    },
    {
     "cell_type": "markdown",
     "metadata": {},
     "source": [
      "Usando la presici\u00f3n Normal"
     ]
    },
    {
     "cell_type": "code",
     "collapsed": false,
     "input": [
      "mp.dps"
     ],
     "language": "python",
     "metadata": {},
     "outputs": [
      {
       "metadata": {},
       "output_type": "pyout",
       "prompt_number": 12,
       "text": [
        "15"
       ]
      }
     ],
     "prompt_number": 12
    },
    {
     "cell_type": "code",
     "collapsed": false,
     "input": [
      "x=77617;y=33096;\n",
      "mp.dps=15\n",
      "R1=R(x,y)\n",
      "print mp.dps,R1\n",
      "nprint(R1,15)"
     ],
     "language": "python",
     "metadata": {},
     "outputs": [
      {
       "output_type": "stream",
       "stream": "stdout",
       "text": [
        "15 -719737395591900115423969299982909441\n",
        "-719737395591900115423969299982909441\n"
       ]
      }
     ],
     "prompt_number": 13
    },
    {
     "cell_type": "heading",
     "level": 3,
     "metadata": {},
     "source": [
      "1.b"
     ]
    },
    {
     "cell_type": "code",
     "collapsed": false,
     "input": [
      "mp.dps = 30;\n",
      "R2=R(x,y)\n",
      "print mp.dps,R2\n",
      "nprint(R2,30)"
     ],
     "language": "python",
     "metadata": {},
     "outputs": [
      {
       "output_type": "stream",
       "stream": "stdout",
       "text": [
        "30 -719737395591900115423969299982909441\n",
        "-719737395591900115423969299982909441\n"
       ]
      }
     ],
     "prompt_number": 44
    },
    {
     "cell_type": "code",
     "collapsed": false,
     "input": [
      "mp.dps = 60;\n",
      "R3=R(x,y)\n",
      "print mp.dps,R3\n",
      "nprint(R3,60)"
     ],
     "language": "python",
     "metadata": {},
     "outputs": [
      {
       "output_type": "stream",
       "stream": "stdout",
       "text": [
        "60 -719737395591900115423969299982909441\n",
        "-719737395591900115423969299982909441\n"
       ]
      }
     ],
     "prompt_number": 45
    },
    {
     "cell_type": "code",
     "collapsed": false,
     "input": [
      "mp.dps = 80;\n",
      "R4=R(x,y)\n",
      "print mp.dps,R4\n",
      "nprint(R4,80)"
     ],
     "language": "python",
     "metadata": {},
     "outputs": [
      {
       "output_type": "stream",
       "stream": "stdout",
       "text": [
        "80 -719737395591900115423969299982909441\n",
        "-719737395591900115423969299982909441\n"
       ]
      }
     ],
     "prompt_number": 46
    },
    {
     "cell_type": "heading",
     "level": 3,
     "metadata": {},
     "source": [
      "1.c"
     ]
    },
    {
     "cell_type": "code",
     "collapsed": false,
     "input": [
      "from sympy import Rational\n",
      "def R(x,y):\n",
      "    return Rational(\"33375/100\")*(y**6) + Rational(x**2)* (11*(x**2)*(y**2) - (y**6) - 121*(y**4) - 2) + Rational(\"55/10\")*(y**8) + x/(2*y)"
     ],
     "language": "python",
     "metadata": {},
     "outputs": [],
     "prompt_number": 47
    },
    {
     "cell_type": "code",
     "collapsed": false,
     "input": [
      "R(x,y)"
     ],
     "language": "python",
     "metadata": {},
     "outputs": [
      {
       "metadata": {},
       "output_type": "pyout",
       "prompt_number": 48,
       "text": [
        "-1"
       ]
      }
     ],
     "prompt_number": 48
    },
    {
     "cell_type": "markdown",
     "metadata": {},
     "source": [
      "**2.** \n",
      "\n",
      "Eval\u00faa num\u00e9ricamente (usando herramientas de Python) la integral\n",
      "$$\n",
      "I_1 = \\int_0^1 \\frac{1}{\\sqrt{\\pi}} \\exp \\left( -x^2 \\right) \\, dx\n",
      "$$"
     ]
    },
    {
     "cell_type": "heading",
     "level": 2,
     "metadata": {},
     "source": [
      "*[Respuestas aqu\u00ed]*"
     ]
    },
    {
     "cell_type": "code",
     "collapsed": false,
     "input": [
      "from sympy import init_printing, symbols, Rational, Integral\n",
      "init_printing()\n",
      "import sympy"
     ],
     "language": "python",
     "metadata": {},
     "outputs": [],
     "prompt_number": 4
    },
    {
     "cell_type": "code",
     "collapsed": false,
     "input": [
      "x=symbols(\"x\")\n",
      "x"
     ],
     "language": "python",
     "metadata": {},
     "outputs": [
      {
       "metadata": {},
       "output_type": "pyout",
       "prompt_number": 5,
       "text": [
        "x"
       ]
      }
     ],
     "prompt_number": 5
    },
    {
     "cell_type": "code",
     "collapsed": false,
     "input": [
      "Integrando=1/sympy.sqrt(sympy.pi)* sympy.exp(- x)"
     ],
     "language": "python",
     "metadata": {},
     "outputs": [],
     "prompt_number": 6
    },
    {
     "cell_type": "code",
     "collapsed": false,
     "input": [
      "I = Integral(Integrando, (x, 0, 1))\n",
      "I"
     ],
     "language": "python",
     "metadata": {},
     "outputs": [
      {
       "metadata": {},
       "output_type": "pyout",
       "prompt_number": 7,
       "text": [
        "1         \n",
        "\u2320         \n",
        "\u23ae   -x    \n",
        "\u23ae  \u212f      \n",
        "\u23ae \u2500\u2500\u2500\u2500\u2500 dx\n",
        "\u23ae   ___   \n",
        "\u23ae \u2572\u2571 \u03c0    \n",
        "\u2321         \n",
        "0         "
       ]
      }
     ],
     "prompt_number": 7
    },
    {
     "cell_type": "code",
     "collapsed": false,
     "input": [
      "I.doit()"
     ],
     "language": "python",
     "metadata": {},
     "outputs": [
      {
       "metadata": {},
       "output_type": "pyout",
       "prompt_number": 8,
       "text": [
        "    -1        \n",
        "   \u212f       1  \n",
        "- \u2500\u2500\u2500\u2500\u2500 + \u2500\u2500\u2500\u2500\n",
        "    ___    1/2\n",
        "  \u2572\u2571 \u03c0    \u03c0   "
       ]
      }
     ],
     "prompt_number": 8
    },
    {
     "cell_type": "markdown",
     "metadata": {},
     "source": [
      "**3.** \n",
      "\n",
      "a. Dibuja la funci\u00f3n \n",
      "$$\n",
      "f(x) = x^{-1} \\cos \\left( x^{-1} \\log{x} \\right)\n",
      "$$\n",
      "en el intervalo [0,1].\n",
      "\n",
      "b. Calcula ahora el *valor num\u00e9rico* de\n",
      "$$\n",
      "\\lim_{\\epsilon\\to 0} \\int_\\epsilon^1 f(x) \\, dx\n",
      "$$\n",
      "\n",
      "c. \u00bfC\u00f3mo podr\u00edas verificar si el valor num\u00e9rico que obtuviste es correcto en 10 decimales?"
     ]
    },
    {
     "cell_type": "heading",
     "level": 2,
     "metadata": {},
     "source": [
      "*[Respuestas aqu\u00ed]*"
     ]
    },
    {
     "cell_type": "heading",
     "level": 3,
     "metadata": {},
     "source": [
      "3.a"
     ]
    },
    {
     "cell_type": "code",
     "collapsed": false,
     "input": [
      "%matplotlib inline\n",
      "from matplotlib import pyplot as plt\n",
      "import numpy as np"
     ],
     "language": "python",
     "metadata": {},
     "outputs": [],
     "prompt_number": 14
    },
    {
     "cell_type": "code",
     "collapsed": false,
     "input": [
      "def f(x):\n",
      "    return cos(log(x)/x)/x"
     ],
     "language": "python",
     "metadata": {},
     "outputs": [],
     "prompt_number": 15
    },
    {
     "cell_type": "code",
     "collapsed": false,
     "input": [
      "x=np.linspace(0.0001,1,10001)\n",
      "y= [f(X) for X in x]\n",
      "plt.plot(x, y)\n",
      "#plt.xlim(0,0.01)"
     ],
     "language": "python",
     "metadata": {},
     "outputs": [
      {
       "metadata": {},
       "output_type": "pyout",
       "prompt_number": 16,
       "text": [
        "[Line2D(_line0)]"
       ]
      },
      {
       "metadata": {},
       "output_type": "display_data",
       "png": "[encoded data removed]",
       "text": [
        "Figure(480x320)"
       ]
      }
     ],
     "prompt_number": 16
    },
    {
     "cell_type": "heading",
     "level": 3,
     "metadata": {},
     "source": [
      "3.b"
     ]
    },
    {
     "cell_type": "code",
     "collapsed": false,
     "input": [
      "del x\n",
      "x=symbols(\"x\")\n",
      "Integrando=sympy.cos(sympy.log(x)/x)/x"
     ],
     "language": "python",
     "metadata": {},
     "outputs": [],
     "prompt_number": 17
    },
    {
     "cell_type": "code",
     "collapsed": false,
     "input": [
      "I = Integral(Integrando, (x, 0.1, 1))\n",
      "I"
     ],
     "language": "python",
     "metadata": {},
     "outputs": [
      {
       "metadata": {},
       "output_type": "pyout",
       "prompt_number": 18,
       "text": [
        " 1                \n",
        " \u2320                \n",
        " \u23ae     \u239blog(x)\u239e   \n",
        " \u23ae  cos\u239c\u2500\u2500\u2500\u2500\u2500\u2500\u239f   \n",
        " \u23ae     \u239d  x   \u23a0   \n",
        " \u23ae  \u2500\u2500\u2500\u2500\u2500\u2500\u2500\u2500\u2500\u2500\u2500 dx\n",
        " \u23ae       x        \n",
        " \u2321                \n",
        "0.1               "
       ]
      }
     ],
     "prompt_number": 18
    },
    {
     "cell_type": "code",
     "collapsed": false,
     "input": [
      "I.doit()"
     ],
     "language": "python",
     "metadata": {},
     "outputs": [
      {
       "metadata": {},
       "output_type": "pyout",
       "prompt_number": 19,
       "text": [
        " 1                \n",
        " \u2320                \n",
        " \u23ae     \u239blog(x)\u239e   \n",
        " \u23ae  cos\u239c\u2500\u2500\u2500\u2500\u2500\u2500\u239f   \n",
        " \u23ae     \u239d  x   \u23a0   \n",
        " \u23ae  \u2500\u2500\u2500\u2500\u2500\u2500\u2500\u2500\u2500\u2500\u2500 dx\n",
        " \u23ae       x        \n",
        " \u2321                \n",
        "0.1               "
       ]
      }
     ],
     "prompt_number": 19
    },
    {
     "cell_type": "markdown",
     "metadata": {},
     "source": [
      "A HA !!!!!!!!!!"
     ]
    },
    {
     "cell_type": "markdown",
     "metadata": {},
     "source": [
      "Si no calcula el valor num\u00e9rico en los casos donde no logra encontrar una funci\u00f3n primitiva\n",
      "\n",
      "Entonces Para calcular"
     ]
    },
    {
     "cell_type": "code",
     "collapsed": false,
     "input": [
      "mp.dps =36\n",
      "def newton(n): #metodo de Newton para encontrar los ceros\n",
      "    z=[]\n",
      "    z0=1e-20  # la pendiente es muy vertical avanza muy lento al principio y aproximarse desde el lado derecho nos pasa valores negativos\n",
      "    z1=z0-(-log(z0)/z0 - (2*n-1)*pi/2 )/((log(z0)-1)/(z0**2))\n",
      "    umbral=1e-15\n",
      "    i=1\n",
      "    while i<100:  # no use el humbral porque a priori no se se me encuentro con un valor tal que cos(log(x)/x)=0\n",
      "        z0=z1\n",
      "        z1=z0-(-log(z0)/z0 - (2*n-1)*pi/2 )/((log(z0)-1)/(z0**2))\n",
      "        i +=1\n",
      "        z.append(z0)\n",
      "    return np.array(z)"
     ],
     "language": "python",
     "metadata": {},
     "outputs": [],
     "prompt_number": 40
    },
    {
     "cell_type": "code",
     "collapsed": false,
     "input": [
      "XX=newton(1000)\n",
      "print cos(log(XX[-2])/XX[-2])\n"
     ],
     "language": "python",
     "metadata": {},
     "outputs": [
      {
       "output_type": "stream",
       "stream": "stdout",
       "text": [
        "-7.89475316157795532744762398157359356e-36\n"
       ]
      }
     ],
     "prompt_number": 41
    },
    {
     "cell_type": "code",
     "collapsed": false,
     "input": [
      "plt.semilogy(abs( (XX[1:]-XX[-1]) ) )\n"
     ],
     "language": "python",
     "metadata": {},
     "outputs": [
      {
       "metadata": {},
       "output_type": "pyout",
       "prompt_number": 42,
       "text": [
        "[Line2D(_line0)]"
       ]
      },
      {
       "metadata": {},
       "output_type": "display_data",
       "png": "[encoded data removed]",
       "text": [
        "Figure(480x320)"
       ]
      }
     ],
     "prompt_number": 42
    },
    {
     "cell_type": "heading",
     "level": 4,
     "metadata": {},
     "source": [
      "Ya chequ\u00e9 que salgan los ceros"
     ]
    },
    {
     "cell_type": "markdown",
     "metadata": {},
     "source": [
      "Ahora calcurar\u00e9 de intengral entre globulo y globulo y lo sumar\u00e9"
     ]
    },
    {
     "cell_type": "code",
     "collapsed": false,
     "input": [
      "from scipy import integrate"
     ],
     "language": "python",
     "metadata": {},
     "outputs": [],
     "prompt_number": 26
    },
    {
     "cell_type": "code",
     "collapsed": false,
     "input": [
      "mp.dps =36\n",
      "N=100 #La suma de los N globulos\n",
      "Integral=[0]\n",
      "def newton(n): #metodo de Newton para encontrar los ceros\n",
      "    z0=1e-20\n",
      "    z1=z0-(-log(z0)/z0 - (2*n-1)*pi/2 )/((log(z0)-1)/(z0**2))\n",
      "    i=1\n",
      "    while i<1000:\n",
      "        z0=z1\n",
      "        z1=z0-(-log(z0)/z0 - (2*n-1)*pi/2 )/((log(z0)-1)/(z0**2))\n",
      "        i +=1\n",
      "    return z1\n",
      "for i in range(N):\n",
      "    \n",
      "    if i==0:\n",
      "        limite_superior,limite_inferior=1,newton(i+1)\n",
      "    else:\n",
      "        limite_superior,limite_inferior=limite_inferior,newton(i+1)\n",
      "        \n",
      "        \n",
      "    x=np.linspace(limite_inferior , limite_superior ,101)\n",
      "    y= [f(X) for X in x]\n",
      "    Integral.append(Integral[-1]+ integrate.simps(y,x))\n",
      "plt.plot(Integral)\n",
      "print \"Y LA INTEGRAL ES:\",Integral[-1]"
     ],
     "language": "python",
     "metadata": {},
     "outputs": [
      {
       "output_type": "stream",
       "stream": "stdout",
       "text": [
        " Y LA INTEGRAL ES: 0.320773252833287998134183563933058722\n"
       ]
      },
      {
       "metadata": {},
       "output_type": "display_data",
       "png": "[encoded data removed]",
       "text": [
        "Figure(480x320)"
       ]
      }
     ],
     "prompt_number": 47
    },
    {
     "cell_type": "code",
     "collapsed": false,
     "input": [
      "plt.plot(Integral)\n",
      "plt.xlim(90,100)\n",
      "plt.ylim(0.3,0.35)\n"
     ],
     "language": "python",
     "metadata": {},
     "outputs": [
      {
       "metadata": {},
       "output_type": "pyout",
       "prompt_number": 49,
       "text": [
        "(0.3, 0.35)"
       ]
      },
      {
       "metadata": {},
       "output_type": "display_data",
       "png": "[encoded data removed]",
       "text": [
        "Figure(480x320)"
       ]
      }
     ],
     "prompt_number": 49
    },
    {
     "cell_type": "code",
     "collapsed": false,
     "input": [
      "diferencias=abs(np.array(Integral[1:])-np.array(Integral[:-1]))\n",
      "plt.loglog((abs(diferencias)))\n",
      "plt.axis('scaled')"
     ],
     "language": "python",
     "metadata": {},
     "outputs": [
      {
       "metadata": {},
       "output_type": "pyout",
       "prompt_number": 64,
       "text": [
        "(1.0, 100.0, 0.001, 1.0)"
       ]
      },
      {
       "metadata": {},
       "output_type": "display_data",
       "png": "[encoded data removed]",
       "text": [
        "Figure(480x320)"
       ]
      }
     ],
     "prompt_number": 64
    },
    {
     "cell_type": "heading",
     "level": 3,
     "metadata": {},
     "source": [
      "3.c"
     ]
    },
    {
     "cell_type": "markdown",
     "metadata": {},
     "source": [
      "Notemos que en la gr\u00e1fica anterior tenemos que el error decae en forma 'lineal' con el n\u00famero de globulos que tenemos"
     ]
    },
    {
     "cell_type": "code",
     "collapsed": false,
     "input": [
      "(log10(diferencias[-1])-log10(diferencias[0]))/(log10(100)-log10(1))"
     ],
     "language": "python",
     "metadata": {},
     "outputs": [
      {
       "metadata": {},
       "output_type": "pyout",
       "prompt_number": 65,
       "text": [
        "-1.01138979262787595839142985124443702"
       ]
      }
     ],
     "prompt_number": 65
    },
    {
     "cell_type": "markdown",
     "metadata": {},
     "source": [
      "Podemos decir que converge como $10^{-n}$\n",
      "\n",
      "Eso significa que para reducir el erro en 10 cifras significativas se requiere por lo menos sumar $10^{10}$ globulos"
     ]
    },
    {
     "cell_type": "markdown",
     "metadata": {},
     "source": [
      "**4.**\n",
      "\n",
      "Completa las operaciones aritm\u00e9ticas (resta, multiplicaci\u00f3n y divisi\u00f3n) para la clase `Intervalo` que definimos en clase."
     ]
    },
    {
     "cell_type": "heading",
     "level": 2,
     "metadata": {},
     "source": [
      "*[Respuestas aqu\u00ed]*"
     ]
    },
    {
     "cell_type": "code",
     "collapsed": false,
     "input": [
      "class Intervalo(object):\n",
      "    # Docstring\n",
      "    \"\"\"\n",
      "    La clase 'Intervalo', mas la aritmetica basica de intervalos, \n",
      "    es decir, suma, resta, multiplicacion y division.\n",
      "    \"\"\"\n",
      "    def __init__(self,v): #me lee una lista o una tupla\n",
      "        try:\n",
      "            self.Min=min(v)\n",
      "            self.Max=max(v)\n",
      "        except:\n",
      "            self.Min=v\n",
      "            self.Max=v\n",
      "    def __repr__(self):\n",
      "        return \"Intervalo([{},{}])\".format(self.Min,self.Max)\n",
      "    def __str__(self):\n",
      "        return \"[{},{}]\".format(self.Min,self.Max)\n",
      "    ################ Aritmetica######################################\n",
      "    #################################################################\n",
      "    \n",
      "    \n",
      "    # SUMA\n",
      "    def __add__ (self, otro):\n",
      "        try:\n",
      "            return Intervalo([self.Min + otro.Min, self.Max + otro.Max])\n",
      "        except:\n",
      "            return self + Intervalo([otro])\n",
      "    def __radd__(self, otro):\n",
      "        return self + otro\n",
      "    # Negativo y resta\n",
      "    def __neg__(self):\n",
      "        return Intervalo([-self.Max,-self.Min])\n",
      "    def __sub__(self, otro):\n",
      "        try:\n",
      "            return self+ (-otro)  ###NOTA se ascocia primero el negativo y despues se suma\n",
      "        except:\n",
      "            return self - Intervalo([otro])\n",
      "    def __rsub__(self, otro):\n",
      "        return self - otro\n",
      "    # Multiplicaci\u00f3n\n",
      "    def __mul__(self, otro):\n",
      "        try:\n",
      "            S=[self.Min*otro.Min , self.Min * otro.Max , self.Max * otro.Min , self.Max * otro.Max ]\n",
      "            return Intervalo([min(S), max(S)])\n",
      "        except:\n",
      "            return self * Intervalo([otro])\n",
      "    def __rmul__(self, otro):\n",
      "        return self * otro\n",
      "    #Inversa y Divici\u00f3n\n",
      "    def __div__(self, otro):\n",
      "        #Har\u00eda el try pero como hay varias condicionantes opto por investigar primero\n",
      "        if (not isinstance(otro, Intervalo)):   \n",
      "            otro = Intervalo([otro])\n",
      "        if otro.Max*otro.Min<=0:\n",
      "            return \"Tu intervalo divisor contiene al cero\"\n",
      "        else:\n",
      "            return self*Intervalo([1./otro.Max,1./otro.Min])\n",
      "    def __rdiv__(self, otro):\n",
      "        return Intervalo([otro])/self\n",
      "        "
     ],
     "language": "python",
     "metadata": {},
     "outputs": [],
     "prompt_number": 307
    },
    {
     "cell_type": "code",
     "collapsed": false,
     "input": [
      "a=Intervalo([1])\n",
      "b=Intervalo((-1,2))\n",
      "c=Intervalo(-2)\n",
      "print a,b,c"
     ],
     "language": "python",
     "metadata": {},
     "outputs": [
      {
       "output_type": "stream",
       "stream": "stdout",
       "text": [
        "[1,1] [-1,2] [-2,-2]\n"
       ]
      }
     ],
     "prompt_number": 312
    },
    {
     "cell_type": "code",
     "collapsed": false,
     "input": [
      "print a+b , b-b,b*c, b/c,c/b"
     ],
     "language": "python",
     "metadata": {},
     "outputs": [
      {
       "output_type": "stream",
       "stream": "stdout",
       "text": [
        "[0,3] [-3,3] [-4,2] [-1.0,0.5] Tu intervalo divisor contiene al cero\n"
       ]
      }
     ],
     "prompt_number": 317
    }
   ],
   "metadata": {}
  }
 ]
}