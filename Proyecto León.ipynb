{
 "metadata": {
  "name": ""
 },
 "nbformat": 3,
 "nbformat_minor": 0,
 "worksheets": [
  {
   "cells": [
    {
     "cell_type": "heading",
     "level": 1,
     "metadata": {
      "slideshow": {
       "slide_type": "fragment"
      }
     },
     "source": [
      "Proyecto Final"
     ]
    },
    {
     "cell_type": "heading",
     "level": 2,
     "metadata": {},
     "source": [
      "Integradores numericos de ecuaciones diferenciales"
     ]
    },
    {
     "cell_type": "heading",
     "level": 5,
     "metadata": {},
     "source": [
      "Por: Le\u00f3n Mart\u00ednez del R\u00edo"
     ]
    },
    {
     "cell_type": "markdown",
     "metadata": {},
     "source": [
      "El proposito de este trabajo es dar un acercamiento al **poder** de la sobrecarga de operadores para generar integradores de ecuaciones diferenciales. Un uso de integradores de ecuaciones diferenciales es para estudiar las variedades invariantes de puntos fijos de ecuaciones diferenciales.\n",
      "\n",
      "Siendo un poco m\u00e1s humide, me enforare en comparar a dos maneras de generar localmente la serie de taylor que se aproxima a la soluci\u00f3n bajo una condici\u00f3n."
     ]
    },
    {
     "cell_type": "markdown",
     "metadata": {},
     "source": [
      "Primero recrdemos el Teorema de Existencia y Unicidad de ecuaciones diferenciales, el cual dice que cuando tenemos ecuacuaciones diferenciales ordinarias, \n",
      "$$ \\dot{x}=f(x,t)$$\n",
      "tenemos que mientras sean localmente Lipschitz y continuas en un intervalo entonces existe una \u00fanica soluci\u00f3n en dicho intervalo."
     ]
    },
    {
     "cell_type": "markdown",
     "metadata": {},
     "source": [
      "Dos formas de enfrentanse al problema consiste en el metodo de *Picard* o el de *Verlet*.\n",
      "Los cuales dos maneras distintas de enfrentarce a generar los t\u00e9rminos de Tailor"
     ]
    },
    {
     "cell_type": "heading",
     "level": 3,
     "metadata": {},
     "source": [
      "Picard"
     ]
    },
    {
     "cell_type": "markdown",
     "metadata": {},
     "source": [
      "El m\u00e9todo de Picard consiste en integrar la funci\u00f3n pensando en la soluci\u00f3n como un punto fijo de un espacio, es decir:\n",
      "\n",
      "$$x_{n+1} (t)=x_0 + \\int_{t_0}^{t} f(x_n(t),t) dt $$\n",
      "\n",
      "Con la condici\u00f3n inicial de $x_0=x(t_0)$\n",
      "\n",
      "Para facilitarnos tomaremos $t_0=0$\n",
      "\n",
      "Aunque hay que tomar ciertas concideraciones para facilitar el c\u00e1lculo. Siendo que queremos que esten jerarquizadas los iterados de Picard podemos tomar que soluciones de aproximaciones sucesivas a la ecuaci\u00f3n diferencial \n",
      "\n",
      "$$\\int_{0}^{t} f_n(x_n(t),t) dt\\sim\t\\int_{0}^{t} f(x_n(t),t) dt $$\n",
      "\n",
      "Donde $f_i$ es el polinomio de taylor al de orden $i$ de la funci\u00f3n $f$\n",
      "\n",
      "Es decir que estamos aproximando a la integral de ecuaci\u00f3n diferencial por una sucecci\u00f3n de ecuaciones diferenciales\n",
      "\n",
      "$$f_0(x_0(t) ,t)\\, , \\quad f_1(x_1(t),t)\\, , \\quad\\cdots \\quad,\\quad f_n(x_n(t),t) \\quad \\to \\quad f(x(t),t)$$\n",
      "\n"
     ]
    },
    {
     "cell_type": "markdown",
     "metadata": {},
     "source": [
      "Tomemos la clase Taylor de Phali (Lorena, David, Nephtal\u00ed)"
     ]
    },
    {
     "cell_type": "code",
     "collapsed": false,
     "input": [
      "from tailor import *"
     ],
     "language": "python",
     "metadata": {},
     "outputs": [],
     "prompt_number": 1
    },
    {
     "cell_type": "code",
     "collapsed": false,
     "input": [
      "def Picard(x,a,HASTA):\n",
      "   # print a\n",
      "   # print x\n",
      "    return a + integrar(x,HASTA)\n",
      "    '''\n",
      "    Esto es para conciderar el iterado de Picard\n",
      "    Pero hay que tomar en cuenta que se necesita el polinomio del iterado\n",
      "    '''\n",
      "def integrar(x,HASTA):\n",
      "        '''\n",
      "        Implementaci\u00f3n de la integracion el cual regresa el taylor integrado hasta el orden HASTA\n",
      "        '''\n",
      "        y=x.coef\n",
      "        y.insert(0,0)\n",
      "        for i in range(x.orden):\n",
      "            y[i+1]=y[i+1]/(i+1.0)\n",
      "        return Taylor(y,HASTA)\n",
      "        #Abusando de la clase taylor pero conciderando solo hasta el termino HASTA\n",
      "def horner(x,t):\n",
      "    y=0\n",
      "    for i in x.coef[:-1][::-1]:\n",
      "        y=y*t+i\n",
      "    return y"
     ],
     "language": "python",
     "metadata": {},
     "outputs": [],
     "prompt_number": 2
    },
    {
     "cell_type": "code",
     "collapsed": false,
     "input": [
      "a=Taylor([1.0,0])\n",
      "x=Taylor([1.0,0])\n",
      "for i in range(1,50):\n",
      "    x=Picard(x**2,a,i)\n",
      "    #print x"
     ],
     "language": "python",
     "metadata": {},
     "outputs": [],
     "prompt_number": 3
    },
    {
     "cell_type": "code",
     "collapsed": false,
     "input": [
      "import matplotlib.pyplot as plt\n",
      "%matplotlib inline"
     ],
     "language": "python",
     "metadata": {},
     "outputs": [],
     "prompt_number": 4
    },
    {
     "cell_type": "markdown",
     "metadata": {},
     "source": [
      "Hagamos el Ejemplo favorito de Luis!!!"
     ]
    },
    {
     "cell_type": "code",
     "collapsed": false,
     "input": [
      "D=numpy.linspace(0,0.99,1000)\n",
      "\n",
      "\n",
      "Y=horner(x,D)\n",
      "\n",
      "plt.plot(D,Y)\n",
      "plt.plot(D,1/(1-D))\n",
      "plt.axis([0.5,1,0,100])\n",
      "plt.show()"
     ],
     "language": "python",
     "metadata": {},
     "outputs": [
      {
       "metadata": {},
       "output_type": "display_data",
       "png": "[encoded data removed]",
       "text": [
        "<matplotlib.figure.Figure at 0x8c3feb8>"
       ]
      }
     ],
     "prompt_number": 5
    },
    {
     "cell_type": "markdown",
     "metadata": {},
     "source": [
      "Iteremos a ordenes superiores para acercarnos al 1"
     ]
    },
    {
     "cell_type": "code",
     "collapsed": false,
     "input": [
      "a=Taylor([1.0,0])\n",
      "x=Taylor([1.0,0])\n",
      "for i in range(1,200):\n",
      "    x=Picard(x**2,a,i)\n",
      "    #print x\n",
      "D=numpy.linspace(-1,0.999,1000)\n",
      "Y=horner(x,D)\n",
      "\n",
      "plt.plot(D,Y)\n",
      "plt.plot(D,1/(1-D))\n",
      "plt.axis([0.9,1,0,100])\n",
      "plt.show()"
     ],
     "language": "python",
     "metadata": {},
     "outputs": [
      {
       "metadata": {},
       "output_type": "display_data",
       "png": "[encoded data removed]",
       "text": [
        "<matplotlib.figure.Figure at 0x8b8b128>"
       ]
      }
     ],
     "prompt_number": 6
    },
    {
     "cell_type": "heading",
     "level": 3,
     "metadata": {},
     "source": [
      "Pensemo en dos dimenciones"
     ]
    },
    {
     "cell_type": "markdown",
     "metadata": {},
     "source": [
      "Sea:\n",
      "$$\\begin{array}{rl}\n",
      "\\dot{x}(t)=&f_x(x,y)\\\\\n",
      "\\dot{y}(t)=&f_y(x,y)\n",
      "\\end{array}$$\n",
      "\n",
      "Entonces el iterado de Picard seria:\n",
      "\n",
      "$$\\begin{array}{rl}\n",
      "x_{n+1}(t)=&x_0 + \\int_{t_0}^t f_x(x_n,y_{n+1})\\\\\n",
      "y_{n+1}(t)=&y_0 + \\int_{t_0}^t f_y(x_n,y_n)\n",
      "\\end{array}$$\n",
      "\n",
      "Es decir no es necesario generar una clase Taylor de orden superior dado que podemos iterarlo de orden a orden como:\n",
      "\n",
      "\n",
      "$$\\begin{array}{rl}\n",
      "x_{n+1}(t)=&x_0 + \\int_{t_0}^t f_{x,n}(x_n,y_{n+1})\\\\\n",
      "y_{n+1}(t)=&y_0 + \\int_{t_0}^t f_{y,n}(x_n,y_n)\n",
      "\\end{array}$$\n"
     ]
    },
    {
     "cell_type": "markdown",
     "metadata": {},
     "source": [
      "Tomemos a ejemplo el oscilador arm\u00f3nico\n",
      "\n",
      "$$\\dot{x}(t)=y $$\n",
      "$$\\dot{y}(t)=-x$$\n"
     ]
    },
    {
     "cell_type": "code",
     "collapsed": false,
     "input": [
      "fx= lambda y: y\n",
      "fy= lambda x: -x"
     ],
     "language": "python",
     "metadata": {},
     "outputs": [],
     "prompt_number": 7
    },
    {
     "cell_type": "code",
     "collapsed": false,
     "input": [
      "#sean las condiciones iniciales\n",
      "a=Taylor([0,0.])\n",
      "x=Taylor([0,0.])\n",
      "\n",
      "b=Taylor([1.,0.])\n",
      "y=Taylor([1.,0.])"
     ],
     "language": "python",
     "metadata": {},
     "outputs": [],
     "prompt_number": 8
    },
    {
     "cell_type": "code",
     "collapsed": false,
     "input": [
      "k=100\n",
      "for i in range(1,k):\n",
      "    y=Picard(fy(x),b,i)\n",
      "    x=Picard(fx(y),a,i+1)\n",
      "y=Picard(fy(x),b,k)"
     ],
     "language": "python",
     "metadata": {},
     "outputs": [],
     "prompt_number": 9
    },
    {
     "cell_type": "code",
     "collapsed": false,
     "input": [
      "D=numpy.linspace(0,2*numpy.pi/3,1000)\n",
      "\n",
      "\n",
      "Y=horner(y,D)\n",
      "X=horner(x,D)\n",
      "\n",
      "plt.plot(X,Y)\n",
      "plt.plot(sin(D),cos(D))\n",
      "plt.axis('scaled')\n",
      "\n",
      "plt.show()"
     ],
     "language": "python",
     "metadata": {},
     "outputs": [
      {
       "metadata": {},
       "output_type": "display_data",
       "png": "[encoded data removed]",
       "text": [
        "<matplotlib.figure.Figure at 0x8c63438>"
       ]
      }
     ],
     "prompt_number": 10
    },
    {
     "cell_type": "markdown",
     "metadata": {},
     "source": [
      "Ahora consideremos igual al osilador arm\u00f3nico pero a diferente frecuencia\n",
      "\n",
      "\n",
      "$$\\dot{x}(t)= \\sqrt{3}y $$\n",
      "$$\\dot{y}(t)=-\\sqrt{3}x $$\n"
     ]
    },
    {
     "cell_type": "code",
     "collapsed": false,
     "input": [
      "fx= lambda y: numpy.sqrt(3)*y\n",
      "fy= lambda x: -numpy.sqrt(3)*x"
     ],
     "language": "python",
     "metadata": {},
     "outputs": [],
     "prompt_number": 11
    },
    {
     "cell_type": "code",
     "collapsed": false,
     "input": [
      "#sean las condiciones iniciales\n",
      "a=Taylor([3./5.,0.])\n",
      "x=Taylor([3./5.,0.])\n",
      "\n",
      "b=Taylor([4./5.,0.])\n",
      "y=Taylor([4./5.,0.])"
     ],
     "language": "python",
     "metadata": {},
     "outputs": [],
     "prompt_number": 12
    },
    {
     "cell_type": "code",
     "collapsed": false,
     "input": [
      "k=100\n",
      "for i in range(1,k):\n",
      "    y=Picard(fy(x),b,i)\n",
      "    x=Picard(fx(y),a,i+1)\n",
      "y=Picard(fy(x),b,k)"
     ],
     "language": "python",
     "metadata": {},
     "outputs": [],
     "prompt_number": 13
    },
    {
     "cell_type": "code",
     "collapsed": false,
     "input": [
      "D=numpy.linspace(-0.3*numpy.pi,0.3*numpy.pi,1000)\n",
      "\n",
      "\n",
      "Y=horner(y,D)\n",
      "X=horner(x,D)\n",
      "\n",
      "plt.plot(X,Y)\n",
      "#plt.plot(sin(3*D),cos(3*D))\n",
      "plt.axis('scaled')\n",
      "\n",
      "plt.show()"
     ],
     "language": "python",
     "metadata": {},
     "outputs": [
      {
       "metadata": {},
       "output_type": "display_data",
       "png": "[encoded data removed]",
       "text": [
        "<matplotlib.figure.Figure at 0x8c6f240>"
       ]
      }
     ],
     "prompt_number": 14
    },
    {
     "cell_type": "heading",
     "level": 3,
     "metadata": {},
     "source": [
      "Pensemos en un problema no lineal"
     ]
    },
    {
     "cell_type": "markdown",
     "metadata": {},
     "source": [
      "$$\\dot{x}(t)=y $$\n",
      "$$\\dot{y}(t)=-x(1-x) $$"
     ]
    },
    {
     "cell_type": "code",
     "collapsed": false,
     "input": [
      "fx= lambda y: y\n",
      "fy= lambda x: -x*(1+x)"
     ],
     "language": "python",
     "metadata": {},
     "outputs": [],
     "prompt_number": 15
    },
    {
     "cell_type": "code",
     "collapsed": false,
     "input": [
      "a=Taylor([-0.1,0.])\n",
      "x=Taylor([-0.1,0.])\n",
      "\n",
      "b=Taylor([0.0,0.])\n",
      "y=Taylor([0.0,0.])\n",
      "\n",
      "k=200\n",
      "for i in range(1,k):\n",
      "    y=Picard(fy(x),b,i)\n",
      "    x=Picard(fx(y),a,i+1)\n",
      "y=Picard(fy(x),b,k)"
     ],
     "language": "python",
     "metadata": {},
     "outputs": [],
     "prompt_number": 21
    },
    {
     "cell_type": "code",
     "collapsed": false,
     "input": [
      "D=numpy.linspace(-1.0*numpy.pi,1.0*numpy.pi,1000)\n",
      "\n",
      "\n",
      "Y=horner(y,D)\n",
      "X=horner(x,D)\n",
      "\n",
      "plt.plot(X,Y)\n",
      "\n",
      "plt.axis('scaled')\n",
      "\n",
      "plt.show()"
     ],
     "language": "python",
     "metadata": {},
     "outputs": [
      {
       "metadata": {},
       "output_type": "display_data",
       "png": "[encoded data removed]",
       "text": [
        "<matplotlib.figure.Figure at 0x8c73048>"
       ]
      }
     ],
     "prompt_number": 22
    },
    {
     "cell_type": "heading",
     "level": 3,
     "metadata": {},
     "source": [
      "Hasta ahorita hemos empezado con sistemas simples pensemos en un problema de Floquet"
     ]
    },
    {
     "cell_type": "markdown",
     "metadata": {},
     "source": [
      "$$\\dot{x}(t)=y $$\n",
      "$$\\dot{y}(t)=-(1+\\epsilon sin(\\alpha t))x $$"
     ]
    },
    {
     "cell_type": "code",
     "collapsed": false,
     "input": [
      "fx= lambda y: y\n",
      "fy= lambda x: lambda i:-(1+0.0005*sin(0.22*Taylor([0.,1.],i) ) )*x\n",
      " # fy es una funci\u00f3n donde el taylor del tiempo depende del parametro  i"
     ],
     "language": "python",
     "metadata": {},
     "outputs": [],
     "prompt_number": 29
    },
    {
     "cell_type": "code",
     "collapsed": false,
     "input": [
      "a=Taylor([0.,0.])\n",
      "x=Taylor([0.,0.])\n",
      "\n",
      "b=Taylor([1.,0.])\n",
      "y=Taylor([1.,0.])\n",
      "\n",
      "k=20\n",
      "for i in range(1,k):\n",
      "    y=Picard(fy(x)(i),b,i)\n",
      "    x=Picard(fx(y),a,i+1)\n",
      "y=Picard(fy(x)(k),b,k)"
     ],
     "language": "python",
     "metadata": {},
     "outputs": [],
     "prompt_number": 30
    },
    {
     "cell_type": "code",
     "collapsed": false,
     "input": [
      "D=numpy.linspace(0,2.*numpy.pi,1000)\n",
      "\n",
      "\n",
      "Y=horner(y,D)\n",
      "X=horner(x,D)\n",
      "\n",
      "plt.plot(X,Y)\n",
      "\n",
      "#plt.axis('scaled')\n",
      "plt.axis([-2,2,-2,2])\n",
      "plt.show()"
     ],
     "language": "python",
     "metadata": {},
     "outputs": [
      {
       "metadata": {},
       "output_type": "display_data",
       "png": "[encoded data removed]",
       "text": [
        "<matplotlib.figure.Figure at 0x8c6ff98>"
       ]
      }
     ],
     "prompt_number": 32
    },
    {
     "cell_type": "heading",
     "level": 1,
     "metadata": {},
     "source": [
      "TATATAN!!"
     ]
    }
   ],
   "metadata": {}
  }
 ]
}